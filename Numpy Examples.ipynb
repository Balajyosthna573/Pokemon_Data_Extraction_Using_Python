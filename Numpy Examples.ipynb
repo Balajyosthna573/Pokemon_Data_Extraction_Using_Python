{
 "cells": [
  {
   "cell_type": "code",
   "execution_count": 1,
   "metadata": {
    "scrolled": true
   },
   "outputs": [
    {
     "name": "stdout",
     "output_type": "stream",
     "text": [
      "Hello, World\n"
     ]
    }
   ],
   "source": [
    "print(\"Hello, World\")"
   ]
  },
  {
   "cell_type": "code",
   "execution_count": 5,
   "metadata": {},
   "outputs": [],
   "source": [
    "import numpy as np"
   ]
  },
  {
   "cell_type": "code",
   "execution_count": 13,
   "metadata": {},
   "outputs": [
    {
     "name": "stdout",
     "output_type": "stream",
     "text": [
      "[1 2 3]\n",
      "(3,)\n",
      "1 2 3\n",
      "[5 2 3]\n",
      "[[1 2 3]\n",
      " [3 4 5]]\n",
      "(2, 3)\n",
      "[1 2 3]\n",
      "[1.4 5.3 0.8]\n"
     ]
    }
   ],
   "source": [
    "a = np.array([1,2,3])\n",
    "print(a)\n",
    "print(a.shape)\n",
    "print(a[0], a[1], a[2])\n",
    "a[0] = 5\n",
    "print(a)\n",
    "\n",
    "b = np.array([[1,2,3],[3,4,5]])\n",
    "print(b)\n",
    "print(b.shape)\n",
    "print(b[0])\n",
    "\n",
    "c = np.array([1.4,5.3,.8])\n",
    "print(c)"
   ]
  },
  {
   "cell_type": "code",
   "execution_count": 17,
   "metadata": {},
   "outputs": [
    {
     "name": "stdout",
     "output_type": "stream",
     "text": [
      "[[0. 0. 0.]\n",
      " [0. 0. 0.]]\n",
      "[[1. 1.]]\n",
      "[[7 7 7]\n",
      " [7 7 7]]\n",
      "[[0.82207901 0.23591968 0.70112798]\n",
      " [0.43351247 0.61683932 0.57055911]\n",
      " [0.25958965 0.05275057 0.77545646]]\n"
     ]
    }
   ],
   "source": [
    "a = np.zeros((2,3))\n",
    "print(a)\n",
    "\n",
    "b = np.ones((1,2))\n",
    "print(b)\n",
    "\n",
    "c = np.full((2,3), 7)\n",
    "print(c)\n",
    "\n",
    "d = np.random.random((3,3))\n",
    "print(d)"
   ]
  },
  {
   "cell_type": "code",
   "execution_count": 2,
   "metadata": {},
   "outputs": [
    {
     "name": "stdout",
     "output_type": "stream",
     "text": [
      "[[1 2 3 4]\n",
      " [2 3 4 5]\n",
      " [3 4 5 6]]\n",
      "(3, 4)\n",
      "[[2 3]]\n",
      "2\n",
      "[[ 1 75 23  4]\n",
      " [ 2  3  4  5]\n",
      " [ 3  4  5  6]]\n"
     ]
    }
   ],
   "source": [
    "import numpy as np\n",
    "a = np.array([[1,2,3,4],\n",
    "             [2,3,4,5],\n",
    "             [3,4,5,6]])\n",
    "\n",
    "print(a)\n",
    "print(a.shape)\n",
    "b = a[:1, 1:3]\n",
    "print(b)\n",
    "\n",
    "print(a[0,1])\n",
    "b[0,0,] = 75\n",
    "b[0,1] = 23\n",
    "print(a)"
   ]
  },
  {
   "cell_type": "code",
   "execution_count": 26,
   "metadata": {},
   "outputs": [
    {
     "name": "stdout",
     "output_type": "stream",
     "text": [
      "[[1 2]\n",
      " [3 4]\n",
      " [4 5]]\n",
      "[[False False]\n",
      " [ True  True]\n",
      " [ True  True]]\n",
      "[3 4 4 5]\n"
     ]
    }
   ],
   "source": [
    "a = np.array([[1,2],\n",
    "             [3,4],\n",
    "             [4,5]])\n",
    "\n",
    "print(a)\n",
    "print(a>2)\n",
    "\n",
    "print(a[a>2])"
   ]
  },
  {
   "cell_type": "code",
   "execution_count": 30,
   "metadata": {},
   "outputs": [
    {
     "name": "stdout",
     "output_type": "stream",
     "text": [
      "[[ 2  4]\n",
      " [ 6  8]\n",
      " [ 8 10]]\n",
      "[[0 0]\n",
      " [0 0]\n",
      " [0 0]]\n",
      "[[ 1  4]\n",
      " [ 9 16]\n",
      " [16 25]]\n",
      "[[1. 1.]\n",
      " [1. 1.]\n",
      " [1. 1.]]\n"
     ]
    }
   ],
   "source": [
    "a = np.array([[1,2],\n",
    "             [3,4],\n",
    "             [4,5]])\n",
    "b = np.array([[1,2],\n",
    "             [3,4],\n",
    "             [4,5]])\n",
    "print(np.add(a,b))\n",
    "print(np.subtract(a,b))\n",
    "print(np.multiply(a,b))\n",
    "print(a/b)"
   ]
  },
  {
   "cell_type": "code",
   "execution_count": 33,
   "metadata": {},
   "outputs": [
    {
     "name": "stdout",
     "output_type": "stream",
     "text": [
      "19\n",
      "[ 8 11]\n",
      "[3 7 9]\n"
     ]
    }
   ],
   "source": [
    "print(np.sum(a))\n",
    "\n",
    "print(np.sum(a, axis=0))\n",
    "print(np.sum(a, axis=1))"
   ]
  },
  {
   "cell_type": "code",
   "execution_count": null,
   "metadata": {},
   "outputs": [],
   "source": []
  }
 ],
 "metadata": {
  "kernelspec": {
   "display_name": "Python 3",
   "language": "python",
   "name": "python3"
  },
  "language_info": {
   "codemirror_mode": {
    "name": "ipython",
    "version": 3
   },
   "file_extension": ".py",
   "mimetype": "text/x-python",
   "name": "python",
   "nbconvert_exporter": "python",
   "pygments_lexer": "ipython3",
   "version": "3.8.3"
  }
 },
 "nbformat": 4,
 "nbformat_minor": 4
}
